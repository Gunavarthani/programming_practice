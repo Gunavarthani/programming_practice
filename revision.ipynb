{
 "cells": [
  {
   "cell_type": "markdown",
   "metadata": {},
   "source": [
    "Get input for a number and check whether it is divisible by both 3 and 5 or not. If yes then print, the number is divisible by 3 and 5 else print the number is not divisible by 3 and 5."
   ]
  },
  {
   "cell_type": "code",
   "execution_count": 7,
   "metadata": {},
   "outputs": [
    {
     "name": "stdout",
     "output_type": "stream",
     "text": [
      "The number is not divisible by 3 and 5.\n"
     ]
    }
   ],
   "source": [
    "a = int(input(\"A:\"))\n",
    "if a % 3 == 0 and a % 5 == 0:\n",
    "    print(\"The number is divisible by 3 and 5.\")\n",
    "else:\n",
    "    print(\"The number is not divisible by 3 and 5.\")"
   ]
  },
  {
   "cell_type": "markdown",
   "metadata": {},
   "source": [
    "Get input for a number and find it is even or odd."
   ]
  },
  {
   "cell_type": "code",
   "execution_count": 8,
   "metadata": {},
   "outputs": [
    {
     "name": "stdout",
     "output_type": "stream",
     "text": [
      "The number is odd.\n"
     ]
    }
   ],
   "source": [
    "a = int(input(\"A:\"))\n",
    "if a % 2 == 0:\n",
    "    print(\"The number is even.\")\n",
    "else:\n",
    "    print(\"The number is odd.\")"
   ]
  },
  {
   "cell_type": "markdown",
   "metadata": {},
   "source": [
    "Get input for score out of 100.\n",
    "If score is <35 =\"Poor Student\"\n",
    "If score is greater than 35 but <than 70 = \"Average Student\"\n",
    "If score is Greater than 70 = \"Good Student\"."
   ]
  },
  {
   "cell_type": "code",
   "execution_count": 10,
   "metadata": {},
   "outputs": [
    {
     "name": "stdout",
     "output_type": "stream",
     "text": [
      "Good Student.\n"
     ]
    }
   ],
   "source": [
    " score = int(input(\"Score:\"))\n",
    "if (score<35):\n",
    "    print(\"Poor\")\n",
    "elif (score>35) and (score<70):\n",
    "    print(\"Average student.\")\n",
    "else:\n",
    "    print(\"Good Student.\")"
   ]
  },
  {
   "cell_type": "markdown",
   "metadata": {},
   "source": [
    "Make a mini calculator.\n",
    "Get input for 2 numbers a and b\n",
    "Get input from user whether to add/sub/mul/div\n",
    "If user selects add then add the two number and Print the result."
   ]
  },
  {
   "cell_type": "code",
   "execution_count": 4,
   "metadata": {},
   "outputs": [
    {
     "name": "stdout",
     "output_type": "stream",
     "text": [
      "28\n"
     ]
    }
   ],
   "source": [
    "a = int(input(\"A:\"))\n",
    "b = int(input(\"B:\"))\n",
    "operations = input(\"add/sub/mul/div\")\n",
    "if(operations==\"add\"):\n",
    "    print(a+b)\n",
    "elif(operations==\"sub\"):\n",
    "    print(a-b)\n",
    "elif(operations==\"mul\"):\n",
    "    print(a*b)\n",
    "elif(operations==\"div\"):\n",
    "    print(a/b)\n",
    "else:\n",
    "    print(\"Invalid operations\")"
   ]
  },
  {
   "cell_type": "markdown",
   "metadata": {},
   "source": [
    "Get a input for score percentage. Only if the percentage is greater than 70, get input for his name, department and location. Then print you are eligible. If not print you are not eligible."
   ]
  },
  {
   "cell_type": "code",
   "execution_count": 5,
   "metadata": {},
   "outputs": [
    {
     "name": "stdout",
     "output_type": "stream",
     "text": [
      "You are eligible\n"
     ]
    }
   ],
   "source": [
    "percentage = int(input(\"Percentage:\"))\n",
    "if (percentage>70):\n",
    "    name=input(\"Name:\")\n",
    "    department=input(\"Department:\")\n",
    "    location=input(\"Location:\")\n",
    "    print(\"You are eligible\")\n",
    "else:\n",
    "    print(\"You are not eligible\")"
   ]
  },
  {
   "cell_type": "markdown",
   "metadata": {},
   "source": [
    "Get input for salary and age.\n",
    "If salary greater than or equal to 20000 or age less than or equal to 25, get input for required loan amount. If not print you are not eligible for loan.\n",
    "If required loan amount is less than or equal to 50000 print You are eligible for loan. If it ia greater than 50000 print maximum loan amount is 50000."
   ]
  },
  {
   "cell_type": "code",
   "execution_count": 6,
   "metadata": {},
   "outputs": [
    {
     "name": "stdout",
     "output_type": "stream",
     "text": [
      "You are eligible for loan.\n"
     ]
    }
   ],
   "source": [
    "salary = int(input(\"Salary:\"))\n",
    "age = int(input(\"Age:\"))\n",
    "if salary>=20000 or age<=25 :\n",
    "    required_loan_amount = int(input(\"Amount:\"))\n",
    "    if required_loan_amount <=50000:\n",
    "        print(\"You are eligible for loan.\")\n",
    "    else:\n",
    "        print(\"Maximum loan amount is 50000\")\n",
    "else:\n",
    "    print(\"You are not eligible for loan.\")"
   ]
  },
  {
   "cell_type": "markdown",
   "metadata": {},
   "source": [
    "Get input for five subjects marks. Add all of it, And find average, if average mark is less than 35. Print \"Additional class is required\" else Print \"You are good to go\""
   ]
  },
  {
   "cell_type": "code",
   "execution_count": 9,
   "metadata": {},
   "outputs": [
    {
     "name": "stdout",
     "output_type": "stream",
     "text": [
      "74.6\n",
      "You are good to go.\n"
     ]
    }
   ],
   "source": [
    "a = int(input(\"Tamil:\"))\n",
    "b = int(input(\"English:\"))\n",
    "c = int(input(\"Maths:\"))\n",
    "d = int(input(\"Science:\"))\n",
    "e = int(input(\"Social:\"))\n",
    "Average = (a+b+c+d+e)/5\n",
    "print(Average)\n",
    "if Average<35:\n",
    "    print(\"Additional class is required.\")\n",
    "else:\n",
    "    print(\"You are good to go.\")"
   ]
  },
  {
   "cell_type": "markdown",
   "metadata": {},
   "source": [
    "Get user input using input(“Enter your age: ”). If user is 18 or older, give feedback: You are old enough to drive. If below 18 give feedback to wait for the missing amount of years. \n",
    "              "
   ]
  },
  {
   "cell_type": "code",
   "execution_count": 11,
   "metadata": {},
   "outputs": [
    {
     "name": "stdout",
     "output_type": "stream",
     "text": [
      "You are  old enough to learn drive.\n"
     ]
    }
   ],
   "source": [
    "age = int(input(\"Enter your age:\"))\n",
    "if age >= 18:\n",
    "    print(\"You are  old enough to learn drive.\")\n",
    "else:\n",
    "    years_to_wait = 18 - age\n",
    "    print(\"You are not old enough to learn drive. Please wait {} year(s).\" .format (years_to_wait))\n"
   ]
  },
  {
   "cell_type": "markdown",
   "metadata": {},
   "source": [
    "Compare the values of my_age and your_age using if … else. Who is older (me or you)? Use input(“Enter your age: ”) to get the age as input. You can use a nested condition to print 'year' for 1 year difference in age, 'years' for bigger differences, and a custom text if my_age = your_age. \n",
    "              "
   ]
  },
  {
   "cell_type": "code",
   "execution_count": null,
   "metadata": {},
   "outputs": [],
   "source": [
    "my_age = 22\n",
    "your_age = int(input(\"Enter your age:\"))\n",
    "if my_age < your_age:\n",
    "    age_difference = your_age - my_age\n",
    "    if age_difference == 1:\n",
    "        print(\"You are older than me by 1 year.\")\n",
    "    else:\n",
    "        print(\"You are older than me by\", age_difference, \"years.\")\n",
    "elif my_age > your_age:\n",
    "    age_difference = my_age - your_age\n",
    "    if age_difference == 1:\n",
    "        print(\"you are younger than me by 1 year.\")\n",
    "    else:\n",
    "        print(\"You are younger than me by\", age_difference, \"years.\")\n",
    "else:\n",
    "    print(\"We are in same age!\")"
   ]
  },
  {
   "cell_type": "markdown",
   "metadata": {},
   "source": []
  },
  {
   "cell_type": "code",
   "execution_count": null,
   "metadata": {},
   "outputs": [],
   "source": []
  }
 ],
 "metadata": {
  "kernelspec": {
   "display_name": "base",
   "language": "python",
   "name": "python3"
  },
  "language_info": {
   "codemirror_mode": {
    "name": "ipython",
    "version": 3
   },
   "file_extension": ".py",
   "mimetype": "text/x-python",
   "name": "python",
   "nbconvert_exporter": "python",
   "pygments_lexer": "ipython3",
   "version": "3.11.5"
  }
 },
 "nbformat": 4,
 "nbformat_minor": 2
}
